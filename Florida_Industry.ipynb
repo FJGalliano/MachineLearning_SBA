{
 "cells": [
  {
   "cell_type": "code",
   "execution_count": 68,
   "metadata": {
    "collapsed": true
   },
   "outputs": [],
   "source": [
    "import warnings\n",
    "warnings.simplefilter('ignore')\n",
    "\n",
    "# %matplotlib inline\n",
    "import matplotlib.pyplot as plt\n",
    "import numpy as np\n",
    "import pandas as pd"
   ]
  },
  {
   "cell_type": "code",
   "execution_count": 69,
   "metadata": {},
   "outputs": [
    {
     "data": {
      "text/html": [
       "<div>\n",
       "<style>\n",
       "    .dataframe thead tr:only-child th {\n",
       "        text-align: right;\n",
       "    }\n",
       "\n",
       "    .dataframe thead th {\n",
       "        text-align: left;\n",
       "    }\n",
       "\n",
       "    .dataframe tbody tr th {\n",
       "        vertical-align: top;\n",
       "    }\n",
       "</style>\n",
       "<table border=\"1\" class=\"dataframe\">\n",
       "  <thead>\n",
       "    <tr style=\"text-align: right;\">\n",
       "      <th></th>\n",
       "      <th>BorrName</th>\n",
       "      <th>BorrStreet</th>\n",
       "      <th>BorrCity</th>\n",
       "      <th>BorrState</th>\n",
       "      <th>BorrZip</th>\n",
       "      <th>BorrID</th>\n",
       "      <th>LoanStatus</th>\n",
       "      <th>GrossApproval</th>\n",
       "      <th>SBAGuarantee</th>\n",
       "      <th>PctOfGuarantee</th>\n",
       "      <th>...</th>\n",
       "      <th>NaicsCode</th>\n",
       "      <th>NaicsDescription</th>\n",
       "      <th>JobsSupported</th>\n",
       "      <th>DeliveryMethod</th>\n",
       "      <th>subpgmdesc</th>\n",
       "      <th>BankName</th>\n",
       "      <th>BankStreet</th>\n",
       "      <th>BankCity</th>\n",
       "      <th>BankState</th>\n",
       "      <th>BankZip</th>\n",
       "    </tr>\n",
       "  </thead>\n",
       "  <tbody>\n",
       "    <tr>\n",
       "      <th>0</th>\n",
       "      <td>TARCA, INC..</td>\n",
       "      <td>3754 NW 54TH STREET</td>\n",
       "      <td>MIAMI</td>\n",
       "      <td>FL</td>\n",
       "      <td>33142</td>\n",
       "      <td>308</td>\n",
       "      <td>CHGOFF</td>\n",
       "      <td>1900000</td>\n",
       "      <td>1425000</td>\n",
       "      <td>0.75</td>\n",
       "      <td>...</td>\n",
       "      <td>423120</td>\n",
       "      <td>Motor Vehicle Supplies and New Parts Merchant ...</td>\n",
       "      <td>5</td>\n",
       "      <td>OTH 7A</td>\n",
       "      <td>Guaranty</td>\n",
       "      <td>TotalBank</td>\n",
       "      <td>100 SE 2nd St</td>\n",
       "      <td>MIAMI</td>\n",
       "      <td>FL</td>\n",
       "      <td>33131</td>\n",
       "    </tr>\n",
       "    <tr>\n",
       "      <th>1</th>\n",
       "      <td>Around the Clock Fitness</td>\n",
       "      <td>1242 SW Pine Island.</td>\n",
       "      <td>Cape coral</td>\n",
       "      <td>FL</td>\n",
       "      <td>33991</td>\n",
       "      <td>8127</td>\n",
       "      <td>PIF</td>\n",
       "      <td>521800</td>\n",
       "      <td>469620</td>\n",
       "      <td>0.90</td>\n",
       "      <td>...</td>\n",
       "      <td>713990</td>\n",
       "      <td>All Other Amusement and Recreation Industries</td>\n",
       "      <td>20</td>\n",
       "      <td>PLP</td>\n",
       "      <td>Guaranty</td>\n",
       "      <td>Newtek Small Business Finance, Inc.</td>\n",
       "      <td>1981 Marcus Avenue</td>\n",
       "      <td>LAKE SUCCESS</td>\n",
       "      <td>NY</td>\n",
       "      <td>11042</td>\n",
       "    </tr>\n",
       "    <tr>\n",
       "      <th>2</th>\n",
       "      <td>Integrated Metering Systems, I</td>\n",
       "      <td>11701 South Belcher Road, Sui</td>\n",
       "      <td>Largo</td>\n",
       "      <td>FL</td>\n",
       "      <td>33773</td>\n",
       "      <td>4025</td>\n",
       "      <td>PIF</td>\n",
       "      <td>40800</td>\n",
       "      <td>34680</td>\n",
       "      <td>0.85</td>\n",
       "      <td>...</td>\n",
       "      <td>335311</td>\n",
       "      <td>Power, Distribution, and Specialty Transformer...</td>\n",
       "      <td>23</td>\n",
       "      <td>PLP</td>\n",
       "      <td>Guaranty</td>\n",
       "      <td>Synovus Bank</td>\n",
       "      <td>1148 Broadway</td>\n",
       "      <td>COLUMBUS</td>\n",
       "      <td>GA</td>\n",
       "      <td>31901</td>\n",
       "    </tr>\n",
       "    <tr>\n",
       "      <th>3</th>\n",
       "      <td>Loving Enterprises Inc and 2 P</td>\n",
       "      <td>7885 Boca Ciega Drive</td>\n",
       "      <td>SAINT PETERSBURG</td>\n",
       "      <td>FL</td>\n",
       "      <td>33706</td>\n",
       "      <td>7228</td>\n",
       "      <td>PIF</td>\n",
       "      <td>332000</td>\n",
       "      <td>249000</td>\n",
       "      <td>0.75</td>\n",
       "      <td>...</td>\n",
       "      <td>453220</td>\n",
       "      <td>Gift, Novelty, and Souvenir Stores</td>\n",
       "      <td>21</td>\n",
       "      <td>PLP</td>\n",
       "      <td>Guaranty</td>\n",
       "      <td>PNC Bank, National Association</td>\n",
       "      <td>222 Delaware Ave</td>\n",
       "      <td>WILMINGTON</td>\n",
       "      <td>DE</td>\n",
       "      <td>19801</td>\n",
       "    </tr>\n",
       "    <tr>\n",
       "      <th>4</th>\n",
       "      <td>Lawrence J. Roberts &amp; Associat</td>\n",
       "      <td>249 Catalonia Avenue.</td>\n",
       "      <td>Coral gables</td>\n",
       "      <td>FL</td>\n",
       "      <td>33134</td>\n",
       "      <td>1508</td>\n",
       "      <td>EXEMPT</td>\n",
       "      <td>225000</td>\n",
       "      <td>112500</td>\n",
       "      <td>0.50</td>\n",
       "      <td>...</td>\n",
       "      <td>541110</td>\n",
       "      <td>Offices of Lawyers</td>\n",
       "      <td>3</td>\n",
       "      <td>SBA EXPRES</td>\n",
       "      <td>FA$TRK (Small Loan Express)</td>\n",
       "      <td>TotalBank</td>\n",
       "      <td>100 SE 2nd St</td>\n",
       "      <td>MIAMI</td>\n",
       "      <td>FL</td>\n",
       "      <td>33131</td>\n",
       "    </tr>\n",
       "  </tbody>\n",
       "</table>\n",
       "<p>5 rows × 37 columns</p>\n",
       "</div>"
      ],
      "text/plain": [
       "                         BorrName                     BorrStreet  \\\n",
       "0                    TARCA, INC..            3754 NW 54TH STREET   \n",
       "1        Around the Clock Fitness           1242 SW Pine Island.   \n",
       "2  Integrated Metering Systems, I  11701 South Belcher Road, Sui   \n",
       "3  Loving Enterprises Inc and 2 P          7885 Boca Ciega Drive   \n",
       "4  Lawrence J. Roberts & Associat          249 Catalonia Avenue.   \n",
       "\n",
       "           BorrCity BorrState  BorrZip  BorrID LoanStatus  GrossApproval  \\\n",
       "0             MIAMI        FL    33142     308     CHGOFF        1900000   \n",
       "1        Cape coral        FL    33991    8127        PIF         521800   \n",
       "2             Largo        FL    33773    4025        PIF          40800   \n",
       "3  SAINT PETERSBURG        FL    33706    7228        PIF         332000   \n",
       "4      Coral gables        FL    33134    1508     EXEMPT         225000   \n",
       "\n",
       "   SBAGuarantee  PctOfGuarantee   ...     NaicsCode  \\\n",
       "0       1425000            0.75   ...        423120   \n",
       "1        469620            0.90   ...        713990   \n",
       "2         34680            0.85   ...        335311   \n",
       "3        249000            0.75   ...        453220   \n",
       "4        112500            0.50   ...        541110   \n",
       "\n",
       "                                    NaicsDescription  JobsSupported  \\\n",
       "0  Motor Vehicle Supplies and New Parts Merchant ...              5   \n",
       "1      All Other Amusement and Recreation Industries             20   \n",
       "2  Power, Distribution, and Specialty Transformer...             23   \n",
       "3                 Gift, Novelty, and Souvenir Stores             21   \n",
       "4                                 Offices of Lawyers              3   \n",
       "\n",
       "  DeliveryMethod                   subpgmdesc  \\\n",
       "0         OTH 7A                     Guaranty   \n",
       "1            PLP                     Guaranty   \n",
       "2            PLP                     Guaranty   \n",
       "3            PLP                     Guaranty   \n",
       "4     SBA EXPRES  FA$TRK (Small Loan Express)   \n",
       "\n",
       "                              BankName          BankStreet      BankCity  \\\n",
       "0                            TotalBank       100 SE 2nd St         MIAMI   \n",
       "1  Newtek Small Business Finance, Inc.  1981 Marcus Avenue  LAKE SUCCESS   \n",
       "2                         Synovus Bank       1148 Broadway      COLUMBUS   \n",
       "3       PNC Bank, National Association    222 Delaware Ave    WILMINGTON   \n",
       "4                            TotalBank       100 SE 2nd St         MIAMI   \n",
       "\n",
       "   BankState  BankZip  \n",
       "0         FL    33131  \n",
       "1         NY    11042  \n",
       "2         GA    31901  \n",
       "3         DE    19801  \n",
       "4         FL    33131  \n",
       "\n",
       "[5 rows x 37 columns]"
      ]
     },
     "execution_count": 69,
     "metadata": {},
     "output_type": "execute_result"
    }
   ],
   "source": [
    "# Read the csv file into a pandas DataFrame\n",
    "\n",
    "fla = pd.read_csv('Florida_2.csv')\n",
    "fla.head()"
   ]
  },
  {
   "cell_type": "code",
   "execution_count": 70,
   "metadata": {
    "collapsed": true,
    "scrolled": false
   },
   "outputs": [],
   "source": [
    "naics = fla.loc[fla['NaicsCode'] == 541211]"
   ]
  },
  {
   "cell_type": "code",
   "execution_count": 71,
   "metadata": {},
   "outputs": [
    {
     "name": "stdout",
     "output_type": "stream",
     "text": [
      "(134, 5) (134,)\n"
     ]
    }
   ],
   "source": [
    "# X used \"LoanStatus\", \"SBAGuarantee\",\n",
    "X = naics[[\"PctOfGuarantee\",\"DebtCoverage\", \"Leverage\", \"PctOfPrinColl\",\"GrossApproval\" ]]\n",
    "y = naics[\"SBAGuarantee\"]\n",
    "print(X.shape, y.shape)"
   ]
  },
  {
   "cell_type": "code",
   "execution_count": 72,
   "metadata": {},
   "outputs": [
    {
     "data": {
      "text/html": [
       "<div>\n",
       "<style>\n",
       "    .dataframe thead tr:only-child th {\n",
       "        text-align: right;\n",
       "    }\n",
       "\n",
       "    .dataframe thead th {\n",
       "        text-align: left;\n",
       "    }\n",
       "\n",
       "    .dataframe tbody tr th {\n",
       "        vertical-align: top;\n",
       "    }\n",
       "</style>\n",
       "<table border=\"1\" class=\"dataframe\">\n",
       "  <thead>\n",
       "    <tr style=\"text-align: right;\">\n",
       "      <th></th>\n",
       "      <th>PctOfGuarantee</th>\n",
       "      <th>DebtCoverage</th>\n",
       "      <th>Leverage</th>\n",
       "      <th>PctOfPrinColl</th>\n",
       "      <th>GrossApproval</th>\n",
       "    </tr>\n",
       "  </thead>\n",
       "  <tbody>\n",
       "    <tr>\n",
       "      <th>2583</th>\n",
       "      <td>0.50</td>\n",
       "      <td>1.50</td>\n",
       "      <td>3.5</td>\n",
       "      <td>0.30</td>\n",
       "      <td>150000</td>\n",
       "    </tr>\n",
       "    <tr>\n",
       "      <th>10221</th>\n",
       "      <td>0.50</td>\n",
       "      <td>1.40</td>\n",
       "      <td>5.0</td>\n",
       "      <td>0.35</td>\n",
       "      <td>36400</td>\n",
       "    </tr>\n",
       "    <tr>\n",
       "      <th>8251</th>\n",
       "      <td>0.50</td>\n",
       "      <td>2.25</td>\n",
       "      <td>4.0</td>\n",
       "      <td>1.00</td>\n",
       "      <td>40000</td>\n",
       "    </tr>\n",
       "    <tr>\n",
       "      <th>11729</th>\n",
       "      <td>0.50</td>\n",
       "      <td>1.40</td>\n",
       "      <td>5.0</td>\n",
       "      <td>0.35</td>\n",
       "      <td>150000</td>\n",
       "    </tr>\n",
       "    <tr>\n",
       "      <th>6678</th>\n",
       "      <td>0.75</td>\n",
       "      <td>2.25</td>\n",
       "      <td>4.0</td>\n",
       "      <td>1.00</td>\n",
       "      <td>247500</td>\n",
       "    </tr>\n",
       "  </tbody>\n",
       "</table>\n",
       "</div>"
      ],
      "text/plain": [
       "       PctOfGuarantee  DebtCoverage  Leverage  PctOfPrinColl  GrossApproval\n",
       "2583             0.50          1.50       3.5           0.30         150000\n",
       "10221            0.50          1.40       5.0           0.35          36400\n",
       "8251             0.50          2.25       4.0           1.00          40000\n",
       "11729            0.50          1.40       5.0           0.35         150000\n",
       "6678             0.75          2.25       4.0           1.00         247500"
      ]
     },
     "execution_count": 72,
     "metadata": {},
     "output_type": "execute_result"
    }
   ],
   "source": [
    "from sklearn.model_selection import train_test_split\n",
    "\n",
    "X_train, X_test, y_train, y_test = train_test_split(X, y, random_state=80)\n",
    "\n",
    "X_train.head()"
   ]
  },
  {
   "cell_type": "code",
   "execution_count": 73,
   "metadata": {},
   "outputs": [
    {
     "data": {
      "image/png": "[encoded data removed]",
      "text/plain": [
       "<matplotlib.figure.Figure at 0x1a21e65a58>"
      ]
     },
     "metadata": {},
     "output_type": "display_data"
    }
   ],
   "source": [
    "from sklearn.linear_model import LinearRegression\n",
    "model = LinearRegression()\n",
    "model.fit(X_train, y_train)\n",
    "plt.scatter(model.predict(X_train), model.predict(X_train) - y_train, c=\"orange\", label=\"Training Data\")\n",
    "plt.scatter(model.predict(X_test), model.predict(X_test) - y_test, c=\"purple\", label=\"Testing Data\")\n",
    "plt.legend()\n",
    "plt.hlines(y=0, xmin=y_test.min(), xmax=y_test.max())\n",
    "plt.title(\"Projected SBA Guarantee\")\n",
    "plt.show()"
   ]
  },
  {
   "cell_type": "code",
   "execution_count": 76,
   "metadata": {},
   "outputs": [
    {
     "name": "stdout",
     "output_type": "stream",
     "text": [
      "LinearRegression(copy_X=True, fit_intercept=True, n_jobs=1, normalize=False)\n"
     ]
    }
   ],
   "source": [
    "print(model)"
   ]
  },
  {
   "cell_type": "code",
   "execution_count": 74,
   "metadata": {},
   "outputs": [
    {
     "data": {
      "text/plain": [
       "255423.16717965502"
      ]
     },
     "execution_count": 74,
     "metadata": {},
     "output_type": "execute_result"
    }
   ],
   "source": [
    "sum(model.predict(X_test) - y_test)"
   ]
  },
  {
   "cell_type": "code",
   "execution_count": 75,
   "metadata": {},
   "outputs": [
    {
     "data": {
      "image/png": "[encoded data removed]",
      "text/plain": [
       "<matplotlib.figure.Figure at 0x1a225716d8>"
      ]
     },
     "metadata": {},
     "output_type": "display_data"
    }
   ],
   "source": [
    "plt.scatter(range(0, len(y_test)), model.predict(X_test) - y_test, c=\"purple\", label=\"Testing Data\")\n",
    "plt.show()"
   ]
  },
  {
   "cell_type": "code",
   "execution_count": 79,
   "metadata": {},
   "outputs": [
    {
     "data": {
      "text/plain": [
       "0.99656055561562651"
      ]
     },
     "execution_count": 79,
     "metadata": {},
     "output_type": "execute_result"
    }
   ],
   "source": [
    "# Overall Score for the model\n",
    "model.score(X, y)"
   ]
  },
  {
   "cell_type": "code",
   "execution_count": 81,
   "metadata": {},
   "outputs": [
    {
     "name": "stdout",
     "output_type": "stream",
     "text": [
      "Mean Squared Error (MSE): 313037994.3684852\n",
      "R-squared (R2 ): 0.9965605556156265\n"
     ]
    }
   ],
   "source": [
    "from sklearn.metrics import mean_squared_error, r2_score\n",
    "\n",
    "# Use our model to predict a value\n",
    "predicted = model.predict(X)\n",
    "\n",
    "# Score the prediction with mse and r2\n",
    "mse = mean_squared_error(y, predicted)\n",
    "r2 = r2_score(y, predicted)\n",
    "\n",
    "print(f\"Mean Squared Error (MSE): {mse}\")\n",
    "print(f\"R-squared (R2 ): {r2}\")"
   ]
  },
  {
   "cell_type": "code",
   "execution_count": 55,
   "metadata": {
    "collapsed": true
   },
   "outputs": [],
   "source": [
    "one_naics = fla[fla['NaicsCode'] == 722110]"
   ]
  },
  {
   "cell_type": "markdown",
   "metadata": {},
   "source": [
    "one_naics.groupby('NaicsCode')['COAmount'].describe()"
   ]
  },
  {
   "cell_type": "code",
   "execution_count": 65,
   "metadata": {},
   "outputs": [
    {
     "data": {
      "text/html": [
       "<div>\n",
       "<style>\n",
       "    .dataframe thead tr:only-child th {\n",
       "        text-align: right;\n",
       "    }\n",
       "\n",
       "    .dataframe thead th {\n",
       "        text-align: left;\n",
       "    }\n",
       "\n",
       "    .dataframe tbody tr th {\n",
       "        vertical-align: top;\n",
       "    }\n",
       "</style>\n",
       "<table border=\"1\" class=\"dataframe\">\n",
       "  <thead>\n",
       "    <tr style=\"text-align: right;\">\n",
       "      <th></th>\n",
       "      <th>count</th>\n",
       "      <th>mean</th>\n",
       "      <th>std</th>\n",
       "      <th>min</th>\n",
       "      <th>25%</th>\n",
       "      <th>50%</th>\n",
       "      <th>75%</th>\n",
       "      <th>max</th>\n",
       "    </tr>\n",
       "    <tr>\n",
       "      <th>NaicsCode</th>\n",
       "      <th></th>\n",
       "      <th></th>\n",
       "      <th></th>\n",
       "      <th></th>\n",
       "      <th></th>\n",
       "      <th></th>\n",
       "      <th></th>\n",
       "      <th></th>\n",
       "    </tr>\n",
       "  </thead>\n",
       "  <tbody>\n",
       "    <tr>\n",
       "      <th>722110</th>\n",
       "      <td>176.0</td>\n",
       "      <td>17414.232955</td>\n",
       "      <td>110588.11847</td>\n",
       "      <td>0.0</td>\n",
       "      <td>0.0</td>\n",
       "      <td>0.0</td>\n",
       "      <td>0.0</td>\n",
       "      <td>1078322.0</td>\n",
       "    </tr>\n",
       "  </tbody>\n",
       "</table>\n",
       "</div>"
      ],
      "text/plain": [
       "           count          mean           std  min  25%  50%  75%        max\n",
       "NaicsCode                                                                  \n",
       "722110     176.0  17414.232955  110588.11847  0.0  0.0  0.0  0.0  1078322.0"
      ]
     },
     "execution_count": 65,
     "metadata": {},
     "output_type": "execute_result"
    }
   ],
   "source": [
    "one_naics.groupby('NaicsCode')['COAmount'].describe()"
   ]
  },
  {
   "cell_type": "code",
   "execution_count": null,
   "metadata": {
    "collapsed": true
   },
   "outputs": [],
   "source": []
  }
 ],
 "metadata": {
  "kernelspec": {
   "display_name": "Python 3",
   "language": "python",
   "name": "python3"
  },
  "language_info": {
   "codemirror_mode": {
    "name": "ipython",
    "version": 3
   },
   "file_extension": ".py",
   "mimetype": "text/x-python",
   "name": "python",
   "nbconvert_exporter": "python",
   "pygments_lexer": "ipython3",
   "version": "3.6.3"
  }
 },
 "nbformat": 4,
 "nbformat_minor": 2
}
