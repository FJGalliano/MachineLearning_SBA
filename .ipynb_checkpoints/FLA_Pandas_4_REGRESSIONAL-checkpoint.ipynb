{
 "cells": [
  {
   "cell_type": "code",
   "execution_count": 2,
   "metadata": {
    "collapsed": true
   },
   "outputs": [],
   "source": [
    "import warnings\n",
    "warnings.simplefilter('ignore')\n",
    "\n",
    "# %matplotlib inline\n",
    "import matplotlib.pyplot as plt\n",
    "import numpy as np\n",
    "import pandas as pd"
   ]
  },
  {
   "cell_type": "code",
   "execution_count": 3,
   "metadata": {},
   "outputs": [
    {
     "data": {
      "text/html": [
       "<div>\n",
       "<style>\n",
       "    .dataframe thead tr:only-child th {\n",
       "        text-align: right;\n",
       "    }\n",
       "\n",
       "    .dataframe thead th {\n",
       "        text-align: left;\n",
       "    }\n",
       "\n",
       "    .dataframe tbody tr th {\n",
       "        vertical-align: top;\n",
       "    }\n",
       "</style>\n",
       "<table border=\"1\" class=\"dataframe\">\n",
       "  <thead>\n",
       "    <tr style=\"text-align: right;\">\n",
       "      <th></th>\n",
       "      <th>BorrName</th>\n",
       "      <th>BorrStreet</th>\n",
       "      <th>BorrCity</th>\n",
       "      <th>BorrState</th>\n",
       "      <th>BorrZip</th>\n",
       "      <th>BorrID</th>\n",
       "      <th>LoanStatus</th>\n",
       "      <th>GrossApproval</th>\n",
       "      <th>SBAGuarantee</th>\n",
       "      <th>PctOfGuarantee</th>\n",
       "      <th>...</th>\n",
       "      <th>NaicsCode</th>\n",
       "      <th>NaicsDescription</th>\n",
       "      <th>JobsSupported</th>\n",
       "      <th>DeliveryMethod</th>\n",
       "      <th>subpgmdesc</th>\n",
       "      <th>BankName</th>\n",
       "      <th>BankStreet</th>\n",
       "      <th>BankCity</th>\n",
       "      <th>BankState</th>\n",
       "      <th>BankZip</th>\n",
       "    </tr>\n",
       "  </thead>\n",
       "  <tbody>\n",
       "    <tr>\n",
       "      <th>0</th>\n",
       "      <td>TARCA, INC..</td>\n",
       "      <td>3754 NW 54TH STREET</td>\n",
       "      <td>MIAMI</td>\n",
       "      <td>FL</td>\n",
       "      <td>33142</td>\n",
       "      <td>308</td>\n",
       "      <td>CHGOFF</td>\n",
       "      <td>1900000</td>\n",
       "      <td>1425000</td>\n",
       "      <td>0.75</td>\n",
       "      <td>...</td>\n",
       "      <td>423120</td>\n",
       "      <td>Motor Vehicle Supplies and New Parts Merchant ...</td>\n",
       "      <td>5</td>\n",
       "      <td>OTH 7A</td>\n",
       "      <td>Guaranty</td>\n",
       "      <td>TotalBank</td>\n",
       "      <td>100 SE 2nd St</td>\n",
       "      <td>MIAMI</td>\n",
       "      <td>FL</td>\n",
       "      <td>33131</td>\n",
       "    </tr>\n",
       "    <tr>\n",
       "      <th>1</th>\n",
       "      <td>Around the Clock Fitness</td>\n",
       "      <td>1242 SW Pine Island.</td>\n",
       "      <td>Cape coral</td>\n",
       "      <td>FL</td>\n",
       "      <td>33991</td>\n",
       "      <td>8127</td>\n",
       "      <td>PIF</td>\n",
       "      <td>521800</td>\n",
       "      <td>469620</td>\n",
       "      <td>0.90</td>\n",
       "      <td>...</td>\n",
       "      <td>713990</td>\n",
       "      <td>All Other Amusement and Recreation Industries</td>\n",
       "      <td>20</td>\n",
       "      <td>PLP</td>\n",
       "      <td>Guaranty</td>\n",
       "      <td>Newtek Small Business Finance, Inc.</td>\n",
       "      <td>1981 Marcus Avenue</td>\n",
       "      <td>LAKE SUCCESS</td>\n",
       "      <td>NY</td>\n",
       "      <td>11042</td>\n",
       "    </tr>\n",
       "    <tr>\n",
       "      <th>2</th>\n",
       "      <td>Integrated Metering Systems, I</td>\n",
       "      <td>11701 South Belcher Road, Sui</td>\n",
       "      <td>Largo</td>\n",
       "      <td>FL</td>\n",
       "      <td>33773</td>\n",
       "      <td>4025</td>\n",
       "      <td>PIF</td>\n",
       "      <td>40800</td>\n",
       "      <td>34680</td>\n",
       "      <td>0.85</td>\n",
       "      <td>...</td>\n",
       "      <td>335311</td>\n",
       "      <td>Power, Distribution, and Specialty Transformer...</td>\n",
       "      <td>23</td>\n",
       "      <td>PLP</td>\n",
       "      <td>Guaranty</td>\n",
       "      <td>Synovus Bank</td>\n",
       "      <td>1148 Broadway</td>\n",
       "      <td>COLUMBUS</td>\n",
       "      <td>GA</td>\n",
       "      <td>31901</td>\n",
       "    </tr>\n",
       "    <tr>\n",
       "      <th>3</th>\n",
       "      <td>Loving Enterprises Inc and 2 P</td>\n",
       "      <td>7885 Boca Ciega Drive</td>\n",
       "      <td>SAINT PETERSBURG</td>\n",
       "      <td>FL</td>\n",
       "      <td>33706</td>\n",
       "      <td>7228</td>\n",
       "      <td>PIF</td>\n",
       "      <td>332000</td>\n",
       "      <td>249000</td>\n",
       "      <td>0.75</td>\n",
       "      <td>...</td>\n",
       "      <td>453220</td>\n",
       "      <td>Gift, Novelty, and Souvenir Stores</td>\n",
       "      <td>21</td>\n",
       "      <td>PLP</td>\n",
       "      <td>Guaranty</td>\n",
       "      <td>PNC Bank, National Association</td>\n",
       "      <td>222 Delaware Ave</td>\n",
       "      <td>WILMINGTON</td>\n",
       "      <td>DE</td>\n",
       "      <td>19801</td>\n",
       "    </tr>\n",
       "    <tr>\n",
       "      <th>4</th>\n",
       "      <td>Lawrence J. Roberts &amp; Associat</td>\n",
       "      <td>249 Catalonia Avenue.</td>\n",
       "      <td>Coral gables</td>\n",
       "      <td>FL</td>\n",
       "      <td>33134</td>\n",
       "      <td>1508</td>\n",
       "      <td>EXEMPT</td>\n",
       "      <td>225000</td>\n",
       "      <td>112500</td>\n",
       "      <td>0.50</td>\n",
       "      <td>...</td>\n",
       "      <td>541110</td>\n",
       "      <td>Offices of Lawyers</td>\n",
       "      <td>3</td>\n",
       "      <td>SBA EXPRES</td>\n",
       "      <td>FA$TRK (Small Loan Express)</td>\n",
       "      <td>TotalBank</td>\n",
       "      <td>100 SE 2nd St</td>\n",
       "      <td>MIAMI</td>\n",
       "      <td>FL</td>\n",
       "      <td>33131</td>\n",
       "    </tr>\n",
       "  </tbody>\n",
       "</table>\n",
       "<p>5 rows × 37 columns</p>\n",
       "</div>"
      ],
      "text/plain": [
       "                         BorrName                     BorrStreet  \\\n",
       "0                    TARCA, INC..            3754 NW 54TH STREET   \n",
       "1        Around the Clock Fitness           1242 SW Pine Island.   \n",
       "2  Integrated Metering Systems, I  11701 South Belcher Road, Sui   \n",
       "3  Loving Enterprises Inc and 2 P          7885 Boca Ciega Drive   \n",
       "4  Lawrence J. Roberts & Associat          249 Catalonia Avenue.   \n",
       "\n",
       "           BorrCity BorrState  BorrZip  BorrID LoanStatus  GrossApproval  \\\n",
       "0             MIAMI        FL    33142     308     CHGOFF        1900000   \n",
       "1        Cape coral        FL    33991    8127        PIF         521800   \n",
       "2             Largo        FL    33773    4025        PIF          40800   \n",
       "3  SAINT PETERSBURG        FL    33706    7228        PIF         332000   \n",
       "4      Coral gables        FL    33134    1508     EXEMPT         225000   \n",
       "\n",
       "   SBAGuarantee  PctOfGuarantee   ...     NaicsCode  \\\n",
       "0       1425000            0.75   ...        423120   \n",
       "1        469620            0.90   ...        713990   \n",
       "2         34680            0.85   ...        335311   \n",
       "3        249000            0.75   ...        453220   \n",
       "4        112500            0.50   ...        541110   \n",
       "\n",
       "                                    NaicsDescription  JobsSupported  \\\n",
       "0  Motor Vehicle Supplies and New Parts Merchant ...              5   \n",
       "1      All Other Amusement and Recreation Industries             20   \n",
       "2  Power, Distribution, and Specialty Transformer...             23   \n",
       "3                 Gift, Novelty, and Souvenir Stores             21   \n",
       "4                                 Offices of Lawyers              3   \n",
       "\n",
       "  DeliveryMethod                   subpgmdesc  \\\n",
       "0         OTH 7A                     Guaranty   \n",
       "1            PLP                     Guaranty   \n",
       "2            PLP                     Guaranty   \n",
       "3            PLP                     Guaranty   \n",
       "4     SBA EXPRES  FA$TRK (Small Loan Express)   \n",
       "\n",
       "                              BankName          BankStreet      BankCity  \\\n",
       "0                            TotalBank       100 SE 2nd St         MIAMI   \n",
       "1  Newtek Small Business Finance, Inc.  1981 Marcus Avenue  LAKE SUCCESS   \n",
       "2                         Synovus Bank       1148 Broadway      COLUMBUS   \n",
       "3       PNC Bank, National Association    222 Delaware Ave    WILMINGTON   \n",
       "4                            TotalBank       100 SE 2nd St         MIAMI   \n",
       "\n",
       "   BankState  BankZip  \n",
       "0         FL    33131  \n",
       "1         NY    11042  \n",
       "2         GA    31901  \n",
       "3         DE    19801  \n",
       "4         FL    33131  \n",
       "\n",
       "[5 rows x 37 columns]"
      ]
     },
     "execution_count": 3,
     "metadata": {},
     "output_type": "execute_result"
    }
   ],
   "source": [
    "# Read the csv file into a pandas DataFrame\n",
    "\n",
    "fla = pd.read_csv('Florida_2.csv')\n",
    "fla.head()"
   ]
  },
  {
   "cell_type": "code",
   "execution_count": 117,
   "metadata": {},
   "outputs": [
    {
     "name": "stdout",
     "output_type": "stream",
     "text": [
      "(15137, 5) (15137,)\n"
     ]
    }
   ],
   "source": [
    "# X used \"LoanStatus\", \"SBAGuarantee\",\n",
    "X = fla[[\"PctOfGuarantee\",\"DebtCoverage\", \"Leverage\", \"PctOfPrinColl\",\"GrossApproval\" ]]\n",
    "y = fla[\"SBAGuarantee\"]\n",
    "print(X.shape, y.shape)"
   ]
  },
  {
   "cell_type": "code",
   "execution_count": 140,
   "metadata": {},
   "outputs": [
    {
     "data": {
      "text/html": [
       "<div>\n",
       "<style>\n",
       "    .dataframe thead tr:only-child th {\n",
       "        text-align: right;\n",
       "    }\n",
       "\n",
       "    .dataframe thead th {\n",
       "        text-align: left;\n",
       "    }\n",
       "\n",
       "    .dataframe tbody tr th {\n",
       "        vertical-align: top;\n",
       "    }\n",
       "</style>\n",
       "<table border=\"1\" class=\"dataframe\">\n",
       "  <thead>\n",
       "    <tr style=\"text-align: right;\">\n",
       "      <th></th>\n",
       "      <th>PctOfGuarantee</th>\n",
       "      <th>DebtCoverage</th>\n",
       "      <th>Leverage</th>\n",
       "      <th>PctOfPrinColl</th>\n",
       "      <th>GrossApproval</th>\n",
       "    </tr>\n",
       "  </thead>\n",
       "  <tbody>\n",
       "    <tr>\n",
       "      <th>1229</th>\n",
       "      <td>0.75</td>\n",
       "      <td>1.50</td>\n",
       "      <td>3.50</td>\n",
       "      <td>0.30</td>\n",
       "      <td>1105500</td>\n",
       "    </tr>\n",
       "    <tr>\n",
       "      <th>5224</th>\n",
       "      <td>0.50</td>\n",
       "      <td>1.75</td>\n",
       "      <td>3.25</td>\n",
       "      <td>0.30</td>\n",
       "      <td>348300</td>\n",
       "    </tr>\n",
       "    <tr>\n",
       "      <th>7961</th>\n",
       "      <td>0.50</td>\n",
       "      <td>1.40</td>\n",
       "      <td>5.00</td>\n",
       "      <td>0.30</td>\n",
       "      <td>100000</td>\n",
       "    </tr>\n",
       "    <tr>\n",
       "      <th>11026</th>\n",
       "      <td>0.75</td>\n",
       "      <td>1.00</td>\n",
       "      <td>4.00</td>\n",
       "      <td>0.35</td>\n",
       "      <td>3465000</td>\n",
       "    </tr>\n",
       "    <tr>\n",
       "      <th>4240</th>\n",
       "      <td>0.85</td>\n",
       "      <td>2.25</td>\n",
       "      <td>4.00</td>\n",
       "      <td>1.00</td>\n",
       "      <td>50000</td>\n",
       "    </tr>\n",
       "  </tbody>\n",
       "</table>\n",
       "</div>"
      ],
      "text/plain": [
       "       PctOfGuarantee  DebtCoverage  Leverage  PctOfPrinColl  GrossApproval\n",
       "1229             0.75          1.50      3.50           0.30        1105500\n",
       "5224             0.50          1.75      3.25           0.30         348300\n",
       "7961             0.50          1.40      5.00           0.30         100000\n",
       "11026            0.75          1.00      4.00           0.35        3465000\n",
       "4240             0.85          2.25      4.00           1.00          50000"
      ]
     },
     "execution_count": 140,
     "metadata": {},
     "output_type": "execute_result"
    }
   ],
   "source": [
    "from sklearn.model_selection import train_test_split\n",
    "\n",
    "X_train, X_test, y_train, y_test = train_test_split(X, y, random_state=60)\n",
    "\n",
    "X_train.head()"
   ]
  },
  {
   "cell_type": "code",
   "execution_count": 141,
   "metadata": {},
   "outputs": [
    {
     "data": {
      "text/plain": [
       "LinearRegression(copy_X=True, fit_intercept=True, n_jobs=1, normalize=False)"
      ]
     },
     "execution_count": 141,
     "metadata": {},
     "output_type": "execute_result"
    }
   ],
   "source": [
    "from sklearn.linear_model import LinearRegression\n",
    "model = LinearRegression()\n",
    "model.fit(X_train, y_train)\n",
    "# plt.scatter(model.predict(X_train), model.predict(X_train) - y_train, c=\"orange\", label=\"Training Data\")\n",
    "# plt.scatter(model.predict(X_test), model.predict(X_test) - y_test, c=\"purple\", label=\"Testing Data\")\n",
    "# plt.legend()\n",
    "# plt.hlines(y=0, xmin=y_test.min(), xmax=y_test.max())\n",
    "# plt.title(\"Projected Charge Off Amount for Performing Loans\")\n",
    "# plt.show()\n"
   ]
  },
  {
   "cell_type": "code",
   "execution_count": 174,
   "metadata": {},
   "outputs": [
    {
     "data": {
      "text/plain": [
       "2332354.5099999998"
      ]
     },
     "execution_count": 174,
     "metadata": {},
     "output_type": "execute_result"
    }
   ],
   "source": [
    "round(sum(model.predict(X_test) - y_test), 2)"
   ]
  },
  {
   "cell_type": "code",
   "execution_count": 143,
   "metadata": {
    "collapsed": true
   },
   "outputs": [],
   "source": [
    "predict1= model.predict(X_test)"
   ]
  },
  {
   "cell_type": "code",
   "execution_count": 144,
   "metadata": {},
   "outputs": [
    {
     "data": {
      "image/png": "[encoded data removed]",
      "text/plain": [
       "<matplotlib.figure.Figure at 0x1a21cdcf28>"
      ]
     },
     "metadata": {},
     "output_type": "display_data"
    }
   ],
   "source": [
    "plt.scatter(range(0, len(y_test)), model.predict(X_test) - y_test, c=\"purple\", label=\"Testing Data\")\n",
    "plt.show()"
   ]
  },
  {
   "cell_type": "code",
   "execution_count": 176,
   "metadata": {},
   "outputs": [
    {
     "data": {
      "image/png": "[encoded data removed]",
      "text/plain": [
       "<matplotlib.figure.Figure at 0x116b77780>"
      ]
     },
     "metadata": {},
     "output_type": "display_data"
    }
   ],
   "source": [
    "plt.bar(range(0, len(y_test)), predict1,  label=\"Testing Data\")\n",
    "plt.title(\"Predictive SBAGuarantee Amount for the Test Data\")\n",
    "plt.show()\n",
    "\n"
   ]
  },
  {
   "cell_type": "code",
   "execution_count": 178,
   "metadata": {},
   "outputs": [
    {
     "name": "stdout",
     "output_type": "stream",
     "text": [
      "MSE: 799168242142.0328, R2: 0.990015015017393\n"
     ]
    }
   ],
   "source": [
    "# Used X_test, y_test, and model.predict(X_test) to calculate MSE and R2\n",
    "\n",
    "### BEGIN SOLUTION\n",
    "from sklearn.metrics import mean_squared_error\n",
    "\n",
    "MSE = mean_squared_error(y_test, predictions)\n",
    "r2 = model.score(X_test, y_test)\n",
    "### END SOLUTION\n",
    "\n",
    "print(f\"MSE: {MSE}, R2: {r2}\")"
   ]
  },
  {
   "cell_type": "code",
   "execution_count": 150,
   "metadata": {},
   "outputs": [
    {
     "data": {
      "text/plain": [
       "2328346.5215211636"
      ]
     },
     "execution_count": 150,
     "metadata": {},
     "output_type": "execute_result"
    }
   ],
   "source": [
    "# LASSO model\n",
    "# Note: Use an alpha of .01 when creating the model for this activity\n",
    "from sklearn.linear_model import Lasso\n",
    "\n",
    "model = Lasso(alpha=.7)\n",
    "model.fit(X_train, y_train)\n",
    "sum(model.predict(X_test) - y_test)\n"
   ]
  },
  {
   "cell_type": "code",
   "execution_count": 151,
   "metadata": {},
   "outputs": [
    {
     "data": {
      "text/plain": [
       "2332354.5138449953"
      ]
     },
     "execution_count": 151,
     "metadata": {},
     "output_type": "execute_result"
    }
   ],
   "source": [
    "# Ridge model\n",
    "# Note: Use an alpha of .01 when creating the model for this activity\n",
    "from sklearn.linear_model import Ridge\n",
    "\n",
    "model = Ridge(alpha=.7)\n",
    "model.fit(X_train, y_train)\n",
    "sum(model.predict(X_test) - y_test)\n"
   ]
  },
  {
   "cell_type": "code",
   "execution_count": 152,
   "metadata": {},
   "outputs": [
    {
     "data": {
      "text/plain": [
       "3289303.1315399841"
      ]
     },
     "execution_count": 152,
     "metadata": {},
     "output_type": "execute_result"
    }
   ],
   "source": [
    "# ElasticNet model\n",
    "# Note: Use an alpha of .01 when creating the model for this activity\n",
    "from sklearn.linear_model import ElasticNet\n",
    "\n",
    "model3 = ElasticNet(alpha=.7)\n",
    "model3.fit(X_train, y_train)\n",
    "sum(model3.predict(X_test) - y_test)\n"
   ]
  },
  {
   "cell_type": "code",
   "execution_count": null,
   "metadata": {
    "collapsed": true
   },
   "outputs": [],
   "source": []
  }
 ],
 "metadata": {
  "kernelspec": {
   "display_name": "Python 3",
   "language": "python",
   "name": "python3"
  },
  "language_info": {
   "codemirror_mode": {
    "name": "ipython",
    "version": 3
   },
   "file_extension": ".py",
   "mimetype": "text/x-python",
   "name": "python",
   "nbconvert_exporter": "python",
   "pygments_lexer": "ipython3",
   "version": "3.6.3"
  }
 },
 "nbformat": 4,
 "nbformat_minor": 2
}
