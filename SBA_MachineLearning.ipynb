{
 "cells": [
  {
   "cell_type": "code",
   "execution_count": 1,
   "metadata": {
    "collapsed": true
   },
   "outputs": [],
   "source": [
    "# Import Scikit Learn\n",
    "from sklearn.linear_model import LogisticRegression\n",
    "from sklearn.model_selection import train_test_split\n",
    "\n",
    "from sklearn.linear_model import LinearRegression\n",
    "import pandas as pd\n",
    "import matplotlib.pyplot as plt\n",
    "import numpy as np\n",
    "import os\n",
    "import csv\n"
   ]
  },
  {
   "cell_type": "code",
   "execution_count": 2,
   "metadata": {
    "collapsed": true
   },
   "outputs": [],
   "source": [
    "# datafile = pd.ExcelFile('FOIA - 7(a)(FY2010-Present).xlsx')"
   ]
  },
  {
   "cell_type": "code",
   "execution_count": 3,
   "metadata": {
    "collapsed": true
   },
   "outputs": [],
   "source": [
    "# print(datafile)"
   ]
  },
  {
   "cell_type": "code",
   "execution_count": 4,
   "metadata": {
    "collapsed": true
   },
   "outputs": [],
   "source": [
    "iL = \"Illinois.csv\""
   ]
  },
  {
   "cell_type": "code",
   "execution_count": 5,
   "metadata": {
    "collapsed": true
   },
   "outputs": [],
   "source": [
    "il_df = pd.read_csv(iL)"
   ]
  },
  {
   "cell_type": "code",
   "execution_count": 6,
   "metadata": {
    "collapsed": true
   },
   "outputs": [],
   "source": [
    "#df = datafile.parse('7A_FY2010_Present')"
   ]
  },
  {
   "cell_type": "code",
   "execution_count": 7,
   "metadata": {},
   "outputs": [
    {
     "data": {
      "text/html": [
       "<div>\n",
       "<style>\n",
       "    .dataframe thead tr:only-child th {\n",
       "        text-align: right;\n",
       "    }\n",
       "\n",
       "    .dataframe thead th {\n",
       "        text-align: left;\n",
       "    }\n",
       "\n",
       "    .dataframe tbody tr th {\n",
       "        vertical-align: top;\n",
       "    }\n",
       "</style>\n",
       "<table border=\"1\" class=\"dataframe\">\n",
       "  <thead>\n",
       "    <tr style=\"text-align: right;\">\n",
       "      <th></th>\n",
       "      <th>BorrName</th>\n",
       "      <th>BorrStreet</th>\n",
       "      <th>BorrCity</th>\n",
       "      <th>BorrState</th>\n",
       "      <th>BorrZip</th>\n",
       "      <th>BusinessType</th>\n",
       "      <th>BankName</th>\n",
       "      <th>BankStreet</th>\n",
       "      <th>BankCity</th>\n",
       "      <th>BankState</th>\n",
       "      <th>...</th>\n",
       "      <th>subpgmdesc</th>\n",
       "      <th>InitialInterestRate</th>\n",
       "      <th>TermInMonths</th>\n",
       "      <th>NaicsCode</th>\n",
       "      <th>NaicsDescription</th>\n",
       "      <th>LoanStatus</th>\n",
       "      <th>ChargeOffDate</th>\n",
       "      <th>GrossChargeOffAmount</th>\n",
       "      <th>RevolverStatus</th>\n",
       "      <th>JobsSupported</th>\n",
       "    </tr>\n",
       "  </thead>\n",
       "  <tbody>\n",
       "    <tr>\n",
       "      <th>0</th>\n",
       "      <td>JONNY B ENTERPRISES, INC.</td>\n",
       "      <td>1421 BERGSTROM RD</td>\n",
       "      <td>WINNEBAGO</td>\n",
       "      <td>IL</td>\n",
       "      <td>61103</td>\n",
       "      <td>CORPORATION</td>\n",
       "      <td>Wisconsin Bank &amp; Trust</td>\n",
       "      <td>119 Junction Rd</td>\n",
       "      <td>MADISON</td>\n",
       "      <td>WI</td>\n",
       "      <td>...</td>\n",
       "      <td>Guaranty</td>\n",
       "      <td>6.0</td>\n",
       "      <td>84</td>\n",
       "      <td>532490</td>\n",
       "      <td>Other Commercial and Industrial Machinery and ...</td>\n",
       "      <td>EXEMPT</td>\n",
       "      <td>NaN</td>\n",
       "      <td>0</td>\n",
       "      <td>0</td>\n",
       "      <td>4</td>\n",
       "    </tr>\n",
       "    <tr>\n",
       "      <th>1</th>\n",
       "      <td>US Cash ATMS Inc.</td>\n",
       "      <td>7722 W 99th Street</td>\n",
       "      <td>HICKORY HILLS</td>\n",
       "      <td>IL</td>\n",
       "      <td>60457</td>\n",
       "      <td>CORPORATION</td>\n",
       "      <td>Wisconsin Bank &amp; Trust</td>\n",
       "      <td>119 Junction Rd</td>\n",
       "      <td>MADISON</td>\n",
       "      <td>WI</td>\n",
       "      <td>...</td>\n",
       "      <td>Lender Advantage Initiative</td>\n",
       "      <td>6.0</td>\n",
       "      <td>120</td>\n",
       "      <td>522320</td>\n",
       "      <td>Financial Transactions Processing, Reserve, an...</td>\n",
       "      <td>EXEMPT</td>\n",
       "      <td>NaN</td>\n",
       "      <td>0</td>\n",
       "      <td>0</td>\n",
       "      <td>0</td>\n",
       "    </tr>\n",
       "    <tr>\n",
       "      <th>2</th>\n",
       "      <td>Westgate Cups LTD and Westgate</td>\n",
       "      <td>743 Westgate Road</td>\n",
       "      <td>Deerfield</td>\n",
       "      <td>IL</td>\n",
       "      <td>60015</td>\n",
       "      <td>CORPORATION</td>\n",
       "      <td>Wisconsin Bank &amp; Trust</td>\n",
       "      <td>119 Junction Rd</td>\n",
       "      <td>MADISON</td>\n",
       "      <td>WI</td>\n",
       "      <td>...</td>\n",
       "      <td>Guaranty</td>\n",
       "      <td>5.0</td>\n",
       "      <td>120</td>\n",
       "      <td>326199</td>\n",
       "      <td>All Other Plastics Product Manufacturing</td>\n",
       "      <td>PIF</td>\n",
       "      <td>NaN</td>\n",
       "      <td>0</td>\n",
       "      <td>0</td>\n",
       "      <td>1</td>\n",
       "    </tr>\n",
       "    <tr>\n",
       "      <th>3</th>\n",
       "      <td>Westgate Cups LTD and Westgate</td>\n",
       "      <td>743 Westgate Road</td>\n",
       "      <td>Deerfield</td>\n",
       "      <td>IL</td>\n",
       "      <td>60015</td>\n",
       "      <td>CORPORATION</td>\n",
       "      <td>Wisconsin Bank &amp; Trust</td>\n",
       "      <td>119 Junction Rd</td>\n",
       "      <td>MADISON</td>\n",
       "      <td>WI</td>\n",
       "      <td>...</td>\n",
       "      <td>FA$TRK (Small Loan Express)</td>\n",
       "      <td>5.0</td>\n",
       "      <td>84</td>\n",
       "      <td>326199</td>\n",
       "      <td>All Other Plastics Product Manufacturing</td>\n",
       "      <td>PIF</td>\n",
       "      <td>NaN</td>\n",
       "      <td>0</td>\n",
       "      <td>1</td>\n",
       "      <td>1</td>\n",
       "    </tr>\n",
       "    <tr>\n",
       "      <th>4</th>\n",
       "      <td>SARU FOOD MART, INC.</td>\n",
       "      <td>3328 AVENUE OF THE CITIES</td>\n",
       "      <td>MOLINE</td>\n",
       "      <td>IL</td>\n",
       "      <td>61265</td>\n",
       "      <td>CORPORATION</td>\n",
       "      <td>Wisconsin Bank &amp; Trust</td>\n",
       "      <td>119 Junction Rd</td>\n",
       "      <td>MADISON</td>\n",
       "      <td>WI</td>\n",
       "      <td>...</td>\n",
       "      <td>Guaranty</td>\n",
       "      <td>6.0</td>\n",
       "      <td>300</td>\n",
       "      <td>447110</td>\n",
       "      <td>Gasoline Stations with Convenience Stores</td>\n",
       "      <td>CANCLD</td>\n",
       "      <td>NaN</td>\n",
       "      <td>0</td>\n",
       "      <td>0</td>\n",
       "      <td>3</td>\n",
       "    </tr>\n",
       "  </tbody>\n",
       "</table>\n",
       "<p>5 rows × 27 columns</p>\n",
       "</div>"
      ],
      "text/plain": [
       "                         BorrName                 BorrStreet       BorrCity  \\\n",
       "0       JONNY B ENTERPRISES, INC.          1421 BERGSTROM RD      WINNEBAGO   \n",
       "1               US Cash ATMS Inc.         7722 W 99th Street  HICKORY HILLS   \n",
       "2  Westgate Cups LTD and Westgate          743 Westgate Road      Deerfield   \n",
       "3  Westgate Cups LTD and Westgate          743 Westgate Road      Deerfield   \n",
       "4            SARU FOOD MART, INC.  3328 AVENUE OF THE CITIES         MOLINE   \n",
       "\n",
       "  BorrState  BorrZip BusinessType                BankName       BankStreet  \\\n",
       "0        IL    61103  CORPORATION  Wisconsin Bank & Trust  119 Junction Rd   \n",
       "1        IL    60457  CORPORATION  Wisconsin Bank & Trust  119 Junction Rd   \n",
       "2        IL    60015  CORPORATION  Wisconsin Bank & Trust  119 Junction Rd   \n",
       "3        IL    60015  CORPORATION  Wisconsin Bank & Trust  119 Junction Rd   \n",
       "4        IL    61265  CORPORATION  Wisconsin Bank & Trust  119 Junction Rd   \n",
       "\n",
       "  BankCity BankState      ...                         subpgmdesc  \\\n",
       "0  MADISON        WI      ...                           Guaranty   \n",
       "1  MADISON        WI      ...        Lender Advantage Initiative   \n",
       "2  MADISON        WI      ...                           Guaranty   \n",
       "3  MADISON        WI      ...        FA$TRK (Small Loan Express)   \n",
       "4  MADISON        WI      ...                           Guaranty   \n",
       "\n",
       "   InitialInterestRate  TermInMonths NaicsCode  \\\n",
       "0                  6.0            84    532490   \n",
       "1                  6.0           120    522320   \n",
       "2                  5.0           120    326199   \n",
       "3                  5.0            84    326199   \n",
       "4                  6.0           300    447110   \n",
       "\n",
       "                                    NaicsDescription LoanStatus ChargeOffDate  \\\n",
       "0  Other Commercial and Industrial Machinery and ...     EXEMPT           NaN   \n",
       "1  Financial Transactions Processing, Reserve, an...     EXEMPT           NaN   \n",
       "2           All Other Plastics Product Manufacturing        PIF           NaN   \n",
       "3           All Other Plastics Product Manufacturing        PIF           NaN   \n",
       "4          Gasoline Stations with Convenience Stores     CANCLD           NaN   \n",
       "\n",
       "  GrossChargeOffAmount  RevolverStatus  JobsSupported  \n",
       "0                    0               0              4  \n",
       "1                    0               0              0  \n",
       "2                    0               0              1  \n",
       "3                    0               1              1  \n",
       "4                    0               0              3  \n",
       "\n",
       "[5 rows x 27 columns]"
      ]
     },
     "execution_count": 7,
     "metadata": {},
     "output_type": "execute_result"
    }
   ],
   "source": [
    "il_df.head()"
   ]
  },
  {
   "cell_type": "code",
   "execution_count": null,
   "metadata": {
    "collapsed": true
   },
   "outputs": [],
   "source": [
    "# # Export file as a CSV, without the Pandas index, but with the header\n",
    "# il_df.to_csv(\"iLLINOIS.csv\", index=False, header=True)"
   ]
  },
  {
   "cell_type": "code",
   "execution_count": null,
   "metadata": {
    "collapsed": true
   },
   "outputs": [],
   "source": [
    "# Assign the data to X and y\n",
    "# Note: Sklearn requires a 7 x 1 array of values\n",
    "# so we use reshape to create this\n",
    "\n",
    "# X = lsd.tc.values.reshape(-1, 1)\n",
    "# y = lsd.score.values.reshape(-1, 1)\n",
    "\n",
    "# print(\"Shape: \", X.shape, y.shape)\n",
    "# X"
   ]
  },
  {
   "cell_type": "code",
   "execution_count": 6,
   "metadata": {},
   "outputs": [
    {
     "ename": "NameError",
     "evalue": "name 'X' is not defined",
     "output_type": "error",
     "traceback": [
      "\u001b[0;31m---------------------------------------------------------------------------\u001b[0m",
      "\u001b[0;31mNameError\u001b[0m                                 Traceback (most recent call last)",
      "\u001b[0;32m<ipython-input-6-19f9ab3b0462>\u001b[0m in \u001b[0;36m<module>\u001b[0;34m()\u001b[0m\n\u001b[1;32m      3\u001b[0m \u001b[0;31m### BEGIN SOLUTION\u001b[0m\u001b[0;34m\u001b[0m\u001b[0;34m\u001b[0m\u001b[0m\n\u001b[1;32m      4\u001b[0m \u001b[0;34m\u001b[0m\u001b[0m\n\u001b[0;32m----> 5\u001b[0;31m \u001b[0mplt\u001b[0m\u001b[0;34m.\u001b[0m\u001b[0mscatter\u001b[0m\u001b[0;34m(\u001b[0m\u001b[0mX\u001b[0m\u001b[0;34m,\u001b[0m \u001b[0my\u001b[0m\u001b[0;34m)\u001b[0m\u001b[0;34m\u001b[0m\u001b[0m\n\u001b[0m\u001b[1;32m      6\u001b[0m \u001b[0;34m\u001b[0m\u001b[0m\n\u001b[1;32m      7\u001b[0m \u001b[0;31m### END SOLUTION\u001b[0m\u001b[0;34m\u001b[0m\u001b[0;34m\u001b[0m\u001b[0m\n",
      "\u001b[0;31mNameError\u001b[0m: name 'X' is not defined"
     ]
    }
   ],
   "source": [
    "# Plot the data\n",
    "\n",
    "### BEGIN SOLUTION\n",
    "\n",
    "plt.scatter(X, y)\n",
    "\n",
    "### END SOLUTION"
   ]
  },
  {
   "cell_type": "code",
   "execution_count": null,
   "metadata": {
    "collapsed": true
   },
   "outputs": [],
   "source": [
    "# Create the model and fit the model to the data\n",
    "\n",
    "from sklearn.linear_model import LinearRegression\n",
    "\n",
    "### BEGIN SOLUTION\n",
    "\n",
    "model = LinearRegression()\n",
    "\n",
    "### END SOLUTION"
   ]
  },
  {
   "cell_type": "code",
   "execution_count": null,
   "metadata": {
    "collapsed": true
   },
   "outputs": [],
   "source": [
    "# Fit the model to the data. \n",
    "# Note: This is the training step where you fit the line to the data.\n",
    "\n",
    "### BEGIN SOLUTION\n",
    "\n",
    "model.fit(X, y)\n",
    "\n",
    "### END SOLUTION"
   ]
  },
  {
   "cell_type": "code",
   "execution_count": null,
   "metadata": {
    "collapsed": true
   },
   "outputs": [],
   "source": []
  }
 ],
 "metadata": {
  "kernelspec": {
   "display_name": "Python 3",
   "language": "python",
   "name": "python3"
  },
  "language_info": {
   "codemirror_mode": {
    "name": "ipython",
    "version": 3
   },
   "file_extension": ".py",
   "mimetype": "text/x-python",
   "name": "python",
   "nbconvert_exporter": "python",
   "pygments_lexer": "ipython3",
   "version": "3.6.3"
  }
 },
 "nbformat": 4,
 "nbformat_minor": 2
}
